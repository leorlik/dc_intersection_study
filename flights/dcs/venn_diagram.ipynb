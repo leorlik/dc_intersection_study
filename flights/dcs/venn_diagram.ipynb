{
 "cells": [
  {
   "cell_type": "code",
   "execution_count": null,
   "metadata": {},
   "outputs": [],
   "source": [
    "import os\n",
    "os.chdir(\"../../economy/dcs\")"
   ]
  },
  {
   "cell_type": "code",
   "execution_count": null,
   "metadata": {},
   "outputs": [],
   "source": [
    "import matplotlib.pyplot as plt\n",
    "from venny4py.venny4py import venny4py\n",
    "\n",
    "def read_file_to_set(filepath):\n",
    "    \"\"\"Reads lines from a file and returns them as a set.\"\"\"\n",
    "    with open(filepath, 'r', encoding='utf-8') as f:\n",
    "        return {line.strip() for line in f if line.strip()}\n",
    "\n",
    "# Example usage for four files\n",
    "set1 = read_file_to_set(\"flights_h0_r.txt\")\n",
    "set2 = read_file_to_set(\"flights_h1_r.txt\")\n",
    "set3 = read_file_to_set(\"flights_h2_r.txt\")\n",
    "set4 = read_file_to_set(\"flights_sound.txt\")\n",
    "\n",
    "data = {\n",
    "    'DCs completas': set1,\n",
    "    'Primeira metade': set2,\n",
    "    'Segunda metade': set3,\n",
    "    'DCs Sounds': set4\n",
    "}\n",
    "\n",
    "venny4py(data)\n",
    "plt.title('Four-Set Venn Diagram')\n",
    "plt.show()"
   ]
  }
 ],
 "metadata": {
  "language_info": {
   "name": "python"
  },
  "orig_nbformat": 4
 },
 "nbformat": 4,
 "nbformat_minor": 2
}
